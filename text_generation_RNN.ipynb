{
 "cells": [
  {
   "cell_type": "markdown",
   "id": "c5887b0c-e52e-4ed5-b919-5abdcfdd709f",
   "metadata": {},
   "source": [
    "#### RNN text prediction"
   ]
  },
  {
   "cell_type": "code",
   "execution_count": 108,
   "id": "e71ff160-1e21-41ed-abaf-0e55914b6d33",
   "metadata": {},
   "outputs": [
    {
     "name": "stdout",
     "output_type": "stream",
     "text": [
      "Download complete. Saved to book.txt.\n"
     ]
    }
   ],
   "source": [
    "import requests\n",
    "import tensorflow as tf\n",
    "from tensorflow.keras.preprocessing.text import Tokenizer\n",
    "from tensorflow.keras.preprocessing.sequence import pad_sequences\n",
    "import numpy as np\n",
    "from tensorflow.keras.models import Sequential\n",
    "from tensorflow.keras.layers import Embedding, Bidirectional, LSTM, Dense\n",
    "from tensorflow.keras.optimizers import Adam\n",
    "from tensorflow.keras.callbacks import EarlyStopping\n",
    "\n",
    "url = \"https://www.gutenberg.org/files/1661/1661-0.txt\"\n",
    "response = requests.get(url)\n",
    "\n",
    "with open(\"book.txt\", \"w\", encoding=\"utf-8\") as f:\n",
    "    f.write(response.text)\n",
    "\n",
    "print(\"Download complete. Saved to book.txt.\")\n",
    "\n",
    "text = open('book.txt', 'r', encoding='utf-8').read()\n",
    "text= text.lower()\n",
    "\n",
    "sentences = text.split('\\n')\n",
    "\n",
    "tokenizer = Tokenizer(oov_token='<UNK>')\n",
    "tokenizer.fit_on_texts(sentences) ## this builds the vocablary\n",
    "\n",
    "vocab_size = len(tokenizer.word_index) + 1\n",
    "# 1 is added to consider the out of vocabulary token (i.e. ‘oov_token’) while calculating the vocabulary size\n",
    "sequences = tokenizer.texts_to_sequences(sentences)\n",
    "\n",
    "input_sequences = []\n",
    "for sequence in sequences:\n",
    "    for i in range(1,len(sequence)):\n",
    "        n_gram_sequence = sequence[:i+1]\n",
    "        input_sequences.append(n_gram_sequence)\n",
    "\n",
    "max_seq_len = max([len(seq) for seq in input_sequences])\n",
    "padded_sequences = pad_sequences(input_sequences, maxlen = max_seq_len)\n",
    "\n",
    "padded_sequences = np.array(padded_sequences)\n",
    "x = padded_sequences[:, :-1]\n",
    "labels  = padded_sequences[:, -1]\n",
    "# one hot encoding labels\n",
    "y = tf.keras.utils.to_categorical(labels, num_classes=vocab_size)\n",
    "\n",
    "\n",
    "#define and compile the model\n",
    "model = Sequential()\n",
    "model.add(Embedding(vocab_size, 100))\n",
    "model.add(Bidirectional(LSTM(256)))\n",
    "model.add(Dense(vocab_size, activation='softmax'))\n",
    "adam = Adam(learning_rate=0.01)\n",
    "model.compile(loss='categorical_crossentropy', optimizer=adam, metrics=['acc'])\n",
    "model.build(input_shape=(None, max_seq_len - 1))\n",
    "# model.summary()\n",
    "\n",
    "#initialize the callback for early stopping the training if there is not at least 1% improvement in the accuracy \n",
    "\n",
    "es = EarlyStopping(monitor = 'acc', min_delta=0.01)\n",
    "\n",
    "model.fit(x, y, epochs=50, verbose=1, batch_size=512, callbacks=[es])\n"
   ]
  },
  {
   "cell_type": "code",
   "execution_count": 110,
   "id": "c5b56195-3b6d-4ba1-906f-d5873bc79d78",
   "metadata": {},
   "outputs": [
    {
     "name": "stdout",
     "output_type": "stream",
     "text": [
      "Download complete. Saved to book.txt.\n"
     ]
    }
   ],
   "source": [
    "import requests\n",
    "\n",
    "url = \"https://www.gutenberg.org/files/1661/1661-0.txt\"\n",
    "response = requests.get(url)\n",
    "\n",
    "with open(\"book.txt\", \"w\", encoding=\"utf-8\") as f:\n",
    "    f.write(response.text)\n",
    "\n",
    "print(\"Download complete. Saved to book.txt.\")\n"
   ]
  },
  {
   "cell_type": "code",
   "execution_count": 111,
   "id": "a4150653-174f-40d6-a7b6-a3e2ead8628d",
   "metadata": {},
   "outputs": [],
   "source": [
    "text = open('book.txt', 'r', encoding='utf-8').read()\n",
    "text= text.lower()"
   ]
  },
  {
   "cell_type": "code",
   "execution_count": 112,
   "id": "af4e26fc-9a5f-402b-bd84-ef9ef0fa15fa",
   "metadata": {},
   "outputs": [
    {
     "data": {
      "text/plain": [
       "list"
      ]
     },
     "execution_count": 112,
     "metadata": {},
     "output_type": "execute_result"
    }
   ],
   "source": [
    "sentences = text.split('\\n')\n",
    "type(sentences)"
   ]
  },
  {
   "cell_type": "markdown",
   "id": "75bc044d-93f4-4368-88d0-f12b8fe250b8",
   "metadata": {},
   "source": [
    "##### so we got a list of sentences now we will be fitting a tokenizer\n",
    "##### it means building a dictionary of words, where each work has a unique identifier"
   ]
  },
  {
   "cell_type": "code",
   "execution_count": 113,
   "id": "112130b9-5df8-4807-afd9-a9692dd8accb",
   "metadata": {},
   "outputs": [],
   "source": [
    "import tensorflow as tf\n",
    "from tensorflow.keras.preprocessing.text import Tokenizer\n",
    "from tensorflow.keras.preprocessing.sequence import pad_sequences"
   ]
  },
  {
   "cell_type": "markdown",
   "id": "91be42c2-28df-4d60-8aaa-3a4afb142ab9",
   "metadata": {},
   "source": [
    "##### going ahead with tokenizing the text\n",
    "##### to do this we have to initialise an object of the Tokenizer"
   ]
  },
  {
   "cell_type": "code",
   "execution_count": 114,
   "id": "1b7348aa-8d89-4de1-945d-5054d15da63d",
   "metadata": {},
   "outputs": [],
   "source": [
    "tokenizer = Tokenizer(oov_token='<UNK>')"
   ]
  },
  {
   "cell_type": "code",
   "execution_count": 115,
   "id": "64bbf5f0-3c79-4192-aca3-15ae50f77a22",
   "metadata": {},
   "outputs": [],
   "source": [
    "tokenizer.fit_on_texts(sentences) ## this builds the vocablary"
   ]
  },
  {
   "cell_type": "code",
   "execution_count": 116,
   "id": "56ac8d8d-7e13-452e-909f-737d549a1f98",
   "metadata": {},
   "outputs": [
    {
     "data": {
      "text/plain": [
       "8923"
      ]
     },
     "execution_count": 116,
     "metadata": {},
     "output_type": "execute_result"
    }
   ],
   "source": [
    "vocab_size = len(tokenizer.word_index) + 1\n",
    "# 1 is added to consider the out of vocabulary token (i.e. ‘oov_token’) while calculating the vocabulary size\n",
    "vocab_size"
   ]
  },
  {
   "cell_type": "code",
   "execution_count": 117,
   "id": "ae5bf268-865f-4150-b486-902d056cf236",
   "metadata": {},
   "outputs": [],
   "source": [
    "## this will take all the sentences and convert each word in it to number using the no.s in the word_index\n",
    "\n",
    "sequences = tokenizer.texts_to_sequences(sentences)"
   ]
  },
  {
   "cell_type": "code",
   "execution_count": 118,
   "id": "e7427ddf-0f5c-4613-b1d7-96169e48c59f",
   "metadata": {},
   "outputs": [],
   "source": [
    "## creating n_gram sequences, all subsets containing 1st element\n",
    "input_sequences = []\n",
    "for sequence in sequences:\n",
    "    for i in range(1,len(sequence)):\n",
    "        n_gram_sequence = sequence[:i+1]\n",
    "        input_sequences.append(n_gram_sequence)"
   ]
  },
  {
   "cell_type": "code",
   "execution_count": 119,
   "id": "3138bdd3-d3e7-406a-869f-872fe148af79",
   "metadata": {},
   "outputs": [
    {
     "name": "stdout",
     "output_type": "stream",
     "text": [
      "[4776, 158]\n"
     ]
    }
   ],
   "source": [
    "print(input_sequences[0])"
   ]
  },
  {
   "cell_type": "code",
   "execution_count": 120,
   "id": "fa3b6c33-9fdc-4a07-9596-ef355a9c97b4",
   "metadata": {},
   "outputs": [
    {
     "data": {
      "text/plain": [
       "20"
      ]
     },
     "execution_count": 120,
     "metadata": {},
     "output_type": "execute_result"
    }
   ],
   "source": [
    "## padding sequences - when we train the model all the sequences needs to be of same length\n",
    "# so we will take the highest length sequence and pad all other sequence based on that\n",
    "\n",
    "max_seq_len = max([len(seq) for seq in input_sequences])\n",
    "max_seq_len"
   ]
  },
  {
   "cell_type": "code",
   "execution_count": 121,
   "id": "609aed90-20ca-4963-a6c9-7ff22a70f22f",
   "metadata": {},
   "outputs": [],
   "source": [
    "padded_sequences = pad_sequences(input_sequences, maxlen = max_seq_len)"
   ]
  },
  {
   "cell_type": "code",
   "execution_count": 122,
   "id": "f03694ff-74ae-4c31-8f76-5684a312c97a",
   "metadata": {},
   "outputs": [
    {
     "name": "stdout",
     "output_type": "stream",
     "text": [
      "[   0    0    0    0    0    0    0    0    0    0    0    0    0    0\n",
      "    0    0    0    0 4776  158]\n"
     ]
    }
   ],
   "source": [
    "print(padded_sequences[0])"
   ]
  },
  {
   "cell_type": "markdown",
   "id": "99a1f6fb-c17d-4cc1-babd-41f48d929394",
   "metadata": {},
   "source": [
    "##### Now we are approaching training part, but before that we have to make our data in input output format\n",
    "##### so what we will do is that for all the sequences - we will take all the elements except the last one as input and the last element as the output"
   ]
  },
  {
   "cell_type": "code",
   "execution_count": 123,
   "id": "5b201671-2fe7-4280-8983-8784c19f9017",
   "metadata": {},
   "outputs": [],
   "source": [
    "import numpy as np"
   ]
  },
  {
   "cell_type": "code",
   "execution_count": 124,
   "id": "c159b37c-67d8-4f89-9ae9-d572608e56c8",
   "metadata": {},
   "outputs": [],
   "source": [
    "padded_sequences = np.array(padded_sequences)"
   ]
  },
  {
   "cell_type": "code",
   "execution_count": 125,
   "id": "68f9c321-a9e0-439c-b9d9-d867407e766d",
   "metadata": {},
   "outputs": [],
   "source": [
    "x = padded_sequences[:, :-1]\n",
    "labels  = padded_sequences[:, -1]"
   ]
  },
  {
   "cell_type": "code",
   "execution_count": 126,
   "id": "6c66da1e-7def-440a-9251-fc409d629000",
   "metadata": {},
   "outputs": [],
   "source": [
    "# one hot encoding labels\n",
    "y = tf.keras.utils.to_categorical(labels, num_classes=vocab_size)"
   ]
  },
  {
   "cell_type": "code",
   "execution_count": 127,
   "id": "d428b2b4-0b12-446b-8263-9b7c2b6a1135",
   "metadata": {},
   "outputs": [
    {
     "data": {
      "text/plain": [
       "((101523, 8923), (101523, 19))"
      ]
     },
     "execution_count": 127,
     "metadata": {},
     "output_type": "execute_result"
    }
   ],
   "source": [
    "y.shape, x.shape"
   ]
  },
  {
   "cell_type": "code",
   "execution_count": 128,
   "id": "1d594152-0a68-42de-9666-013bce127cd2",
   "metadata": {},
   "outputs": [],
   "source": [
    "## training model"
   ]
  },
  {
   "cell_type": "code",
   "execution_count": 129,
   "id": "13abd748-e4e8-4ae5-9686-9891c2439de6",
   "metadata": {},
   "outputs": [],
   "source": [
    "#import dependencies for defining the model\n",
    "from tensorflow.keras.models import Sequential\n",
    "from tensorflow.keras.layers import Embedding, Bidirectional, LSTM, Dense\n",
    "from tensorflow.keras.optimizers import Adam"
   ]
  },
  {
   "cell_type": "code",
   "execution_count": 135,
   "id": "13240bd3-d025-4861-bc27-c29f9066dd74",
   "metadata": {},
   "outputs": [
    {
     "data": {
      "text/html": [
       "<pre style=\"white-space:pre;overflow-x:auto;line-height:normal;font-family:Menlo,'DejaVu Sans Mono',consolas,'Courier New',monospace\"><span style=\"font-weight: bold\">Model: \"sequential_8\"</span>\n",
       "</pre>\n"
      ],
      "text/plain": [
       "\u001b[1mModel: \"sequential_8\"\u001b[0m\n"
      ]
     },
     "metadata": {},
     "output_type": "display_data"
    },
    {
     "data": {
      "text/html": [
       "<pre style=\"white-space:pre;overflow-x:auto;line-height:normal;font-family:Menlo,'DejaVu Sans Mono',consolas,'Courier New',monospace\">┏━━━━━━━━━━━━━━━━━━━━━━━━━━━━━━━━━━━━━━┳━━━━━━━━━━━━━━━━━━━━━━━━━━━━━┳━━━━━━━━━━━━━━━━━┓\n",
       "┃<span style=\"font-weight: bold\"> Layer (type)                         </span>┃<span style=\"font-weight: bold\"> Output Shape                </span>┃<span style=\"font-weight: bold\">         Param # </span>┃\n",
       "┡━━━━━━━━━━━━━━━━━━━━━━━━━━━━━━━━━━━━━━╇━━━━━━━━━━━━━━━━━━━━━━━━━━━━━╇━━━━━━━━━━━━━━━━━┩\n",
       "│ embedding_8 (<span style=\"color: #0087ff; text-decoration-color: #0087ff\">Embedding</span>)              │ (<span style=\"color: #00d7ff; text-decoration-color: #00d7ff\">None</span>, <span style=\"color: #00af00; text-decoration-color: #00af00\">19</span>, <span style=\"color: #00af00; text-decoration-color: #00af00\">128</span>)             │       <span style=\"color: #00af00; text-decoration-color: #00af00\">1,142,144</span> │\n",
       "├──────────────────────────────────────┼─────────────────────────────┼─────────────────┤\n",
       "│ bidirectional_10 (<span style=\"color: #0087ff; text-decoration-color: #0087ff\">Bidirectional</span>)     │ (<span style=\"color: #00d7ff; text-decoration-color: #00d7ff\">None</span>, <span style=\"color: #00af00; text-decoration-color: #00af00\">19</span>, <span style=\"color: #00af00; text-decoration-color: #00af00\">512</span>)             │         <span style=\"color: #00af00; text-decoration-color: #00af00\">788,480</span> │\n",
       "├──────────────────────────────────────┼─────────────────────────────┼─────────────────┤\n",
       "│ bidirectional_11 (<span style=\"color: #0087ff; text-decoration-color: #0087ff\">Bidirectional</span>)     │ (<span style=\"color: #00d7ff; text-decoration-color: #00d7ff\">None</span>, <span style=\"color: #00af00; text-decoration-color: #00af00\">1024</span>)                │       <span style=\"color: #00af00; text-decoration-color: #00af00\">4,198,400</span> │\n",
       "├──────────────────────────────────────┼─────────────────────────────┼─────────────────┤\n",
       "│ dense_8 (<span style=\"color: #0087ff; text-decoration-color: #0087ff\">Dense</span>)                      │ (<span style=\"color: #00d7ff; text-decoration-color: #00d7ff\">None</span>, <span style=\"color: #00af00; text-decoration-color: #00af00\">8923</span>)                │       <span style=\"color: #00af00; text-decoration-color: #00af00\">9,146,075</span> │\n",
       "└──────────────────────────────────────┴─────────────────────────────┴─────────────────┘\n",
       "</pre>\n"
      ],
      "text/plain": [
       "┏━━━━━━━━━━━━━━━━━━━━━━━━━━━━━━━━━━━━━━┳━━━━━━━━━━━━━━━━━━━━━━━━━━━━━┳━━━━━━━━━━━━━━━━━┓\n",
       "┃\u001b[1m \u001b[0m\u001b[1mLayer (type)                        \u001b[0m\u001b[1m \u001b[0m┃\u001b[1m \u001b[0m\u001b[1mOutput Shape               \u001b[0m\u001b[1m \u001b[0m┃\u001b[1m \u001b[0m\u001b[1m        Param #\u001b[0m\u001b[1m \u001b[0m┃\n",
       "┡━━━━━━━━━━━━━━━━━━━━━━━━━━━━━━━━━━━━━━╇━━━━━━━━━━━━━━━━━━━━━━━━━━━━━╇━━━━━━━━━━━━━━━━━┩\n",
       "│ embedding_8 (\u001b[38;5;33mEmbedding\u001b[0m)              │ (\u001b[38;5;45mNone\u001b[0m, \u001b[38;5;34m19\u001b[0m, \u001b[38;5;34m128\u001b[0m)             │       \u001b[38;5;34m1,142,144\u001b[0m │\n",
       "├──────────────────────────────────────┼─────────────────────────────┼─────────────────┤\n",
       "│ bidirectional_10 (\u001b[38;5;33mBidirectional\u001b[0m)     │ (\u001b[38;5;45mNone\u001b[0m, \u001b[38;5;34m19\u001b[0m, \u001b[38;5;34m512\u001b[0m)             │         \u001b[38;5;34m788,480\u001b[0m │\n",
       "├──────────────────────────────────────┼─────────────────────────────┼─────────────────┤\n",
       "│ bidirectional_11 (\u001b[38;5;33mBidirectional\u001b[0m)     │ (\u001b[38;5;45mNone\u001b[0m, \u001b[38;5;34m1024\u001b[0m)                │       \u001b[38;5;34m4,198,400\u001b[0m │\n",
       "├──────────────────────────────────────┼─────────────────────────────┼─────────────────┤\n",
       "│ dense_8 (\u001b[38;5;33mDense\u001b[0m)                      │ (\u001b[38;5;45mNone\u001b[0m, \u001b[38;5;34m8923\u001b[0m)                │       \u001b[38;5;34m9,146,075\u001b[0m │\n",
       "└──────────────────────────────────────┴─────────────────────────────┴─────────────────┘\n"
      ]
     },
     "metadata": {},
     "output_type": "display_data"
    },
    {
     "data": {
      "text/html": [
       "<pre style=\"white-space:pre;overflow-x:auto;line-height:normal;font-family:Menlo,'DejaVu Sans Mono',consolas,'Courier New',monospace\"><span style=\"font-weight: bold\"> Total params: </span><span style=\"color: #00af00; text-decoration-color: #00af00\">15,275,099</span> (58.27 MB)\n",
       "</pre>\n"
      ],
      "text/plain": [
       "\u001b[1m Total params: \u001b[0m\u001b[38;5;34m15,275,099\u001b[0m (58.27 MB)\n"
      ]
     },
     "metadata": {},
     "output_type": "display_data"
    },
    {
     "data": {
      "text/html": [
       "<pre style=\"white-space:pre;overflow-x:auto;line-height:normal;font-family:Menlo,'DejaVu Sans Mono',consolas,'Courier New',monospace\"><span style=\"font-weight: bold\"> Trainable params: </span><span style=\"color: #00af00; text-decoration-color: #00af00\">15,275,099</span> (58.27 MB)\n",
       "</pre>\n"
      ],
      "text/plain": [
       "\u001b[1m Trainable params: \u001b[0m\u001b[38;5;34m15,275,099\u001b[0m (58.27 MB)\n"
      ]
     },
     "metadata": {},
     "output_type": "display_data"
    },
    {
     "data": {
      "text/html": [
       "<pre style=\"white-space:pre;overflow-x:auto;line-height:normal;font-family:Menlo,'DejaVu Sans Mono',consolas,'Courier New',monospace\"><span style=\"font-weight: bold\"> Non-trainable params: </span><span style=\"color: #00af00; text-decoration-color: #00af00\">0</span> (0.00 B)\n",
       "</pre>\n"
      ],
      "text/plain": [
       "\u001b[1m Non-trainable params: \u001b[0m\u001b[38;5;34m0\u001b[0m (0.00 B)\n"
      ]
     },
     "metadata": {},
     "output_type": "display_data"
    }
   ],
   "source": [
    "#define and compile the model\n",
    "model = Sequential()\n",
    "model.add(Embedding(vocab_size, 128))\n",
    "model.add(Bidirectional(LSTM(256, return_sequences=True)))\n",
    "model.add(Bidirectional(LSTM(512)))\n",
    "model.add(Dense(vocab_size, activation='softmax'))\n",
    "adam = Adam(learning_rate=0.01)\n",
    "model.compile(loss='categorical_crossentropy', optimizer=adam, metrics=['acc'])\n",
    "model.build(input_shape=(None, max_seq_len - 1))\n",
    "model.summary()"
   ]
  },
  {
   "cell_type": "code",
   "execution_count": 136,
   "id": "1d07cd5a-1055-4272-aad9-d3f8f5203097",
   "metadata": {},
   "outputs": [],
   "source": [
    "#initialize the callback for early stopping the training if there is not at least 1% improvement in the accuracy \n",
    "from tensorflow.keras.callbacks import EarlyStopping\n",
    "es = EarlyStopping(monitor = 'acc', min_delta=0.01)"
   ]
  },
  {
   "cell_type": "code",
   "execution_count": 137,
   "id": "94b193e4-893a-47eb-bb38-53ac75be4f98",
   "metadata": {},
   "outputs": [
    {
     "name": "stdout",
     "output_type": "stream",
     "text": [
      "Epoch 1/50\n",
      "\u001b[1m199/199\u001b[0m \u001b[32m━━━━━━━━━━━━━━━━━━━━\u001b[0m\u001b[37m\u001b[0m \u001b[1m912s\u001b[0m 5s/step - acc: 0.0578 - loss: 6.6626\n",
      "Epoch 2/50\n",
      "\u001b[1m199/199\u001b[0m \u001b[32m━━━━━━━━━━━━━━━━━━━━\u001b[0m\u001b[37m\u001b[0m \u001b[1m883s\u001b[0m 4s/step - acc: 0.1067 - loss: 5.7214\n",
      "Epoch 3/50\n",
      "\u001b[1m199/199\u001b[0m \u001b[32m━━━━━━━━━━━━━━━━━━━━\u001b[0m\u001b[37m\u001b[0m \u001b[1m549s\u001b[0m 3s/step - acc: 0.1273 - loss: 5.4440\n",
      "Epoch 4/50\n",
      "\u001b[1m199/199\u001b[0m \u001b[32m━━━━━━━━━━━━━━━━━━━━\u001b[0m\u001b[37m\u001b[0m \u001b[1m548s\u001b[0m 3s/step - acc: 0.1367 - loss: 5.2662\n"
     ]
    },
    {
     "data": {
      "text/plain": [
       "<keras.src.callbacks.history.History at 0x24c2b8904f0>"
      ]
     },
     "execution_count": 137,
     "metadata": {},
     "output_type": "execute_result"
    }
   ],
   "source": [
    "model.fit(x, y, epochs=50, verbose=1, batch_size=512, callbacks=[es])"
   ]
  },
  {
   "cell_type": "code",
   "execution_count": 107,
   "id": "e226747a-b004-40a3-8806-8f3935ec8dca",
   "metadata": {},
   "outputs": [
    {
     "name": "stdout",
     "output_type": "stream",
     "text": [
      "the thing always appears to me to be so ridiculously simple that I could easily do it myself for he said that he would be true to me ” he said rubbing his hands and looked back a piece of paper and i could see that she was in the least of the less opened a very limited foot ” said he “but though i know what a\n"
     ]
    }
   ],
   "source": [
    "#Time to become storyteller!\n",
    "# seed_text = \"I could not help laughing at the ease with which he explained his process of deduction\" \n",
    "seed_text = \"the thing always appears to me to be so ridiculously simple that I could easily do it myself\"          \n",
    "\n",
    "next_words = 50\n",
    "  \n",
    "for _ in range(next_words):\n",
    "  sequence = tokenizer.texts_to_sequences([seed_text])\n",
    "  padded = pad_sequences(sequence, maxlen=max_seq_len-1)\n",
    "  predicted = np.argmax(model.predict(padded, verbose=0), axis=-1)\n",
    "  output_word = ''\n",
    "  for word, index in tokenizer.word_index.items():\n",
    "    if index == predicted:\n",
    "      output_word = word\n",
    "      break\n",
    "  seed_text += ' ' + output_word\n",
    "print(seed_text)"
   ]
  },
  {
   "cell_type": "code",
   "execution_count": 106,
   "id": "bc387e75-527b-4863-9c41-3b12109c23ca",
   "metadata": {},
   "outputs": [
    {
     "data": {
      "image/png": "[encoded data removed]",
      "text/plain": [
       "<Figure size 640x480 with 1 Axes>"
      ]
     },
     "metadata": {},
     "output_type": "display_data"
    },
    {
     "data": {
      "image/png": "[encoded data removed]",
      "text/plain": [
       "<Figure size 640x480 with 1 Axes>"
      ]
     },
     "metadata": {},
     "output_type": "display_data"
    }
   ],
   "source": [
    "#let's look at how loss and accuracy changed while training\n",
    "import matplotlib.pyplot as plt\n",
    "history = model.history\n",
    "acc = history.history['acc']\n",
    "loss = history.history['loss']\n",
    "\n",
    "epochs = range(len(acc))\n",
    "\n",
    "plt.plot(epochs, acc, 'b', label='Training accuracy')\n",
    "plt.title('Training accuracy')\n",
    "\n",
    "plt.figure()\n",
    "\n",
    "plt.plot(epochs, loss, 'b', label='Training Loss')\n",
    "plt.title('Training loss')\n",
    "plt.legend()\n",
    "\n",
    "plt.show()"
   ]
  }
 ],
 "metadata": {
  "kernelspec": {
   "display_name": "Python 3 (ipykernel)",
   "language": "python",
   "name": "python3"
  },
  "language_info": {
   "codemirror_mode": {
    "name": "ipython",
    "version": 3
   },
   "file_extension": ".py",
   "mimetype": "text/x-python",
   "name": "python",
   "nbconvert_exporter": "python",
   "pygments_lexer": "ipython3",
   "version": "3.10.18"
  }
 },
 "nbformat": 4,
 "nbformat_minor": 5
}
